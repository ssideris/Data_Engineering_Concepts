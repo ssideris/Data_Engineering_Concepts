{
 "cells": [
  {
   "cell_type": "markdown",
   "id": "9d831ee8",
   "metadata": {},
   "source": [
    "## Analytics Engineering using [dbt](https://www.getdbt.com)"
   ]
  },
  {
   "cell_type": "code",
   "execution_count": 3,
   "id": "7ec9d3d2",
   "metadata": {},
   "outputs": [
    {
     "data": {
      "text/html": [
       "<div style=\"display: flex;\">              <img src=\"Images/author_pic.jpg\" alt=\"author profile pic\" style=\"width:8%;                      border-radius:100%; border: 1px solid black;\"/>              <div style=\"float: right; margin-left:3%\">              <p style=\" font-size: 130%; margin-top:10%; \">By Stamatis Sideris</p>              <p style=\"font-size: 100%;\">Updated as of: September 18, 2023</p>              </div>              </div>"
      ],
      "text/plain": [
       "<IPython.core.display.HTML object>"
      ]
     },
     "metadata": {},
     "output_type": "display_data"
    }
   ],
   "source": [
    "from IPython.display import display, HTML\n",
    "display(HTML('<div style=\"display: flex;\"> \\\n",
    "             <img src=\"Images/author_pic.jpg\" alt=\"author profile pic\" style=\"width:8%; \\\n",
    "                     border-radius:100%; border: 1px solid black;\"/> \\\n",
    "             <div style=\"float: right; margin-left:3%\"> \\\n",
    "             <p style=\" font-size: 130%; margin-top:10%; \">By Stamatis Sideris</p> \\\n",
    "             <p style=\"font-size: 100%;\">Updated as of: September 18, 2023</p> \\\n",
    "             </div> \\\n",
    "             </div>'))"
   ]
  },
  {
   "cell_type": "markdown",
   "id": "81ab5e87",
   "metadata": {},
   "source": [
    "### Table of Contents\n",
    "\n",
    "[1. Introduction](#introduction)\n",
    "\n",
    "[2. How does dbt work](#how-does-dbt-work)\n",
    "\n",
    "[3. Initializing a dbt Project - using CLI](#initializing-a-dbt-project-using-cli)\n",
    "\n",
    "[4. zInitializing a dbt Project - using dbt Cloud](#initializing-a-dbt-project-using-dbt-cloud)\n",
    "\n",
    "[5. dbt Basics - Creating and Running a dbt Model ](#dbt-basics-creating-and-running-a-dbt-model)\n",
    "\n",
    "[6. dbt Basics - Defining Sources ](#dbt-basics-defining-sources)\n",
    "\n",
    "[7. dbt Basics - Running Tests ](#dbt-basics-running-tests)\n",
    "\n",
    "[8. dbt Basics - Generating Documentation ](#dbt-basics-generating-documentation)\n",
    "\n",
    "[9. dbt Basics - Project's Deployment ](#dbt-basics-project's-deployment)\n",
    "\n",
    "[10. Conclusion](#conclusion)"
   ]
  },
  {
   "cell_type": "markdown",
   "id": "a101c8ee",
   "metadata": {},
   "source": [
    "### Introduction\n",
    "\n",
    "To start, how would you define an analytics engineer? Analytics engineers focus on the transformation of raw data into transformed data that is ready for analysis. This new role on the data team changes the responsibilities of data engineers and data analysts. In other words, Analytics Engineers work as an intermediate that bridges data engineers and data analysts as they understand both of the underlying infrastructure of data and the business/analytics needs.\n",
    "\n",
    "![image.png](Images/Picture9.png) \n",
    "\n",
    "In this tutorial, we are going to use dbt (data build tool), a transformative framework that has revolutionized the way we engineer analytics. dbt empowers data teams to leverage software engineering principles for transforming data by using SQL modules to model and transform data so that they are available in the correct format for use by the data analysts. dbt is playing a crucial role in the transformation part of the ELT (extract-load-transform) methodology, collecting data from modern Data Platforms and transforming them based on the needs of the analytics teams. Some of dbt's characteristics are:\n",
    "\n",
    "- Modularization and Reusability: DBT allows you to modularize your SQL code into reusable \"models\". This makes it easier to maintain and scale your data transformations as your data and business needs evolve.\n",
    "\n",
    "- Version Control: DBT projects can be version-controlled using Git, which means you can track changes to your data transformations over time, collaborate with team members, and roll back to previous versions if needed.\n",
    "\n",
    "- Data Testing: DBT provides a framework for writing and running data tests to ensure the quality and consistency of your data. You can create tests to validate data integrity, conformity to business rules, and more.\n",
    "\n",
    "- Documentation: DBT encourages the documentation of data models and transformations. This helps team members understand the data pipeline and how different data elements are derived and used.\n",
    "\n",
    "For detailed documentation on dbt refer [here](https://docs.getdbt.com/docs/introduction)."
   ]
  },
  {
   "cell_type": "markdown",
   "id": "0222f528",
   "metadata": {},
   "source": [
    "### How does dbt work\n",
    "\n",
    "In the modern data era, organizations use cloud-based Data Platforms to store their data after extraction, avoiding the pre-transformation step and performing custom transformations afterwards based on analytics needs. This way, data pipelines are becoming more efficient and cost-effective. \n",
    "\n",
    "Based on this architecture, dbt's role is to sit on top of the Data Platforms and help on the transformation step. dbt is able to connect to the Data Platform of our choice, detect the databases and schemas stored inside of it, develop models that transform data into new tables and views and store them inside the Data Warehouse, test and version control the developments and finally deploy jobs that automate the data supply to the analytics teams and bring them to production. "
   ]
  },
  {
   "cell_type": "markdown",
   "id": "b1010209",
   "metadata": {},
   "source": [
    "![image.png](Images/Picture10.png)"
   ]
  },
  {
   "cell_type": "markdown",
   "id": "9ec4c765",
   "metadata": {},
   "source": [
    "### Initializing a dbt Project - using CLI"
   ]
  },
  {
   "cell_type": "markdown",
   "id": "987f3aa0",
   "metadata": {},
   "source": [
    "We start by creating a virtual environment and pip installing in it the dbt-bigquery libary which is responsible for connecting dbt to Google Cloud's Data Warehouse called BigQuery. For a tutorial on loading BigQuery with the data we are about to use, refer [here](https://github.com/ssideris/Data_Management_Concepts/tree/main/DevOps/Uploading%20Data%20in%20Google%20Cloud%20Storage%20and%20Querying%20them%20using%20Big%20Query). For commands on how to install dbt for different Data Warehouses' providers refer [here](https://docs.getdbt.com/docs/supported-data-platforms)."
   ]
  },
  {
   "cell_type": "code",
   "execution_count": null,
   "id": "2f7ffab0",
   "metadata": {},
   "outputs": [],
   "source": [
    "python3 -m venv dbt-env\n",
    "source dbt-env/bin/activate\n",
    "pip install dbt-bigquery"
   ]
  },
  {
   "cell_type": "markdown",
   "id": "fe430e88",
   "metadata": {},
   "source": [
    "We then proceed on initializing our dbt project:"
   ]
  },
  {
   "cell_type": "code",
   "execution_count": null,
   "id": "ca86f7c9",
   "metadata": {},
   "outputs": [],
   "source": [
    "dbt init"
   ]
  },
  {
   "cell_type": "markdown",
   "id": "2f3875ec",
   "metadata": {},
   "source": [
    "An interactive prompt will open asking us questions about the configuration of our project. First, the name of our project is needed, i call it \"ecommerce_analytics\". Then, we are asked to choose the database of our project, for me the only available option is [1] BigQuery. The desired authentication method is that of a service account (Refer [here](https://github.com/ssideris/Data_Management_Concepts/tree/main/DevOps/Uploading%20Data%20in%20Google%20Cloud%20Storage%20and%20Querying%20them%20using%20Big%20Query) for the tutorial on creating a service account, adding the key role BigQuery Admin and downloading the key in json format). Finally, we need to set the path to our .json file, the region of the server we are about to use and the number of threads. In the end, a project directory is created including all the files needed for developing our project. "
   ]
  },
  {
   "cell_type": "markdown",
   "id": "04cb5dfe",
   "metadata": {},
   "source": [
    "![image.png](Images/Picture6.png) "
   ]
  },
  {
   "cell_type": "markdown",
   "id": "fc88ec52",
   "metadata": {},
   "source": [
    "We use the following command to check if a correct connection has been established with our database:"
   ]
  },
  {
   "cell_type": "code",
   "execution_count": null,
   "id": "ad68b58b",
   "metadata": {},
   "outputs": [],
   "source": [
    "dbt debug"
   ]
  },
  {
   "cell_type": "markdown",
   "id": "8e8caca8",
   "metadata": {},
   "source": [
    "The file dbt_project.yml is responsible for configuring our project. When we open it, we observe the key \"profile\". Its value is corresponding to the configuration included in the profiles.yml file. The profiles.yml has been created automatically when initializing dbt and can be found inside the home directory and the folder .dbt. Its format is presented below and includes the values we set for each key in the interactive prompt before. We can create more than one profiles inside the same profiles.yml and use the key target to set the name of the profile we want to use for our project."
   ]
  },
  {
   "cell_type": "code",
   "execution_count": null,
   "id": "a3f5fd78",
   "metadata": {},
   "outputs": [],
   "source": [
    "ecommerce_analytics:\n",
    "  outputs:\n",
    "    dev:\n",
    "      dataset: ecommerce_data\n",
    "      job_execution_timeout_seconds: 300\n",
    "      job_retries: 1\n",
    "      keyfile: /home/sgsid/ecommerce/dbt/e-commerce-shipping-392016-dec2dc45ac10.json\n",
    "      location: EU\n",
    "      method: service-account\n",
    "      priority: interactive\n",
    "      project: 'e-commerce-shipping-392016'\n",
    "      threads: 2\n",
    "      type: bigquery\n",
    "  target: dev"
   ]
  },
  {
   "cell_type": "markdown",
   "id": "756e6817",
   "metadata": {},
   "source": [
    "Moreover, we can also change the name of our project on key \"name\" as well as define if a models' directory will produce exclusively tables or views (we will talk about dbt models later on) on key models."
   ]
  },
  {
   "cell_type": "markdown",
   "id": "b07a3982",
   "metadata": {},
   "source": [
    "As a last step, let's connect our project to a Github repository via git for version controlling. To do so, start git inside your project's directory:"
   ]
  },
  {
   "cell_type": "code",
   "execution_count": null,
   "id": "2da412af",
   "metadata": {},
   "outputs": [],
   "source": [
    "git init"
   ]
  },
  {
   "cell_type": "markdown",
   "id": "d736c27e",
   "metadata": {},
   "source": [
    "set your branch:"
   ]
  },
  {
   "cell_type": "code",
   "execution_count": null,
   "id": "da9d5957",
   "metadata": {},
   "outputs": [],
   "source": [
    "git branch -m main"
   ]
  },
  {
   "cell_type": "markdown",
   "id": "5a68a082",
   "metadata": {},
   "source": [
    "set the https url to the repository:"
   ]
  },
  {
   "cell_type": "code",
   "execution_count": null,
   "id": "f43fb1c8",
   "metadata": {},
   "outputs": [],
   "source": [
    "git remote add origin https://github.com/ssideris/dbt-test.git"
   ]
  },
  {
   "cell_type": "markdown",
   "id": "8145fe1c",
   "metadata": {},
   "source": [
    "and commit your projet to the repo:"
   ]
  },
  {
   "cell_type": "code",
   "execution_count": null,
   "id": "08da3fba",
   "metadata": {},
   "outputs": [],
   "source": [
    "git add .\n",
    "git commit -m \"Initial commit\"\n",
    "git push origin main"
   ]
  },
  {
   "cell_type": "markdown",
   "id": "f9e9db94",
   "metadata": {},
   "source": [
    "The project should be loaded on Github."
   ]
  },
  {
   "cell_type": "markdown",
   "id": "2edb4bea",
   "metadata": {},
   "source": [
    "![image.png](Images/Picture5.png) "
   ]
  },
  {
   "cell_type": "markdown",
   "id": "9b25f4e5",
   "metadata": {},
   "source": [
    "### Initializing a dbt Project - using dbt Cloud\n",
    "\n",
    "dbt Cloud is a hosted version that streamlines development with an online Integrated Development Environment (IDE) and an interface to run dbt on a schedule. To start, visit the following hyperlink [dbt-cloud](https://www.getdbt.com) and create a free account. \n",
    "\n",
    "Let's set a name for our project and choose BigQuery as connection. Then, we upload the key.json of our service account, which is similar to the one we used in the CLI installation."
   ]
  },
  {
   "cell_type": "markdown",
   "id": "29188a47",
   "metadata": {},
   "source": [
    "![image.png](Images/Picture1.png) "
   ]
  },
  {
   "cell_type": "markdown",
   "id": "c3ed0e28",
   "metadata": {},
   "source": [
    "A connection should be established:"
   ]
  },
  {
   "cell_type": "markdown",
   "id": "78dcc8b0",
   "metadata": {},
   "source": [
    "![image.png](Images/Picture2.png) "
   ]
  },
  {
   "cell_type": "markdown",
   "id": "5974cd4a",
   "metadata": {},
   "source": [
    "Afterwards, we are provided with numerous options on where to store our dbt project. As a best practise, we will choose a repository on Github but you could also store the project on dbt cloud, gitLab or even git clone an existing project from Github. Github will ask for permission to connect your account and preferred repo to dbt."
   ]
  },
  {
   "cell_type": "markdown",
   "id": "06780664",
   "metadata": {},
   "source": [
    "![image.png](Images/Picture3.png) "
   ]
  },
  {
   "cell_type": "markdown",
   "id": "3af8c548",
   "metadata": {},
   "source": [
    "Initialize the project by selecting \"initialize dbt project\" on the left panel and proceed on commiting the changes."
   ]
  },
  {
   "cell_type": "markdown",
   "id": "0a9d15d3",
   "metadata": {},
   "source": [
    "![image.png](Images/Picture4.png) "
   ]
  },
  {
   "cell_type": "markdown",
   "id": "de72cb2f",
   "metadata": {},
   "source": [
    "The dbt project's files should have been pushed on github."
   ]
  },
  {
   "cell_type": "markdown",
   "id": "01c575f3",
   "metadata": {},
   "source": [
    "![image.png](Images/Picture5.png) "
   ]
  },
  {
   "cell_type": "markdown",
   "id": "131842ca",
   "metadata": {},
   "source": [
    "### dbt Basics - Creating and Running a dbt Model \n",
    "\n",
    "dbt is using SQL DDL/DML Statements to transform data. dbt models are SQL files or SQL code snippets that define how raw or source data should be transformed into structured and analytically useful datasets. Let's create our first model that will read our table inside BigQuery and filter the events for the months January and December.\n",
    "\n",
    "To do so, we first create a events directory inside the models directory. There, we create a .sql file which we will call \"events_jan_dec\". Inside it, we write the following SQL snippet. The first line is using a Jinja statement (dbt is supporting Jinja) to configure if the result of the query will be stored as a table or as a view, a step which we can bypass by parameterizing the dbt_project.yml we referred to before."
   ]
  },
  {
   "cell_type": "code",
   "execution_count": null,
   "id": "6fa3824a",
   "metadata": {},
   "outputs": [],
   "source": [
    "{{ config(materialized='table') }}\n",
    "WITH events_jan_dec AS (\n",
    "    SELECT * FROM `e-commerce-shipping-392016.ecommerce_data.ecommerce_data_all_partitioned_clustered`\n",
    "    WHERE EXTRACT(MONTH FROM date) IN (1,12)\n",
    ")\n",
    "\n",
    "SELECT date, event_type, product_id, price, user_id, FROM events_jan_dec"
   ]
  },
  {
   "cell_type": "markdown",
   "id": "a66cad13",
   "metadata": {},
   "source": [
    "Moreover, we create another .sql file with the following SQL script and we name it \"events_jan_dec_5676290.sql\". The script is calling the table created in the model \"events_jan_dec\" using the ref function and filter it for a specific product id. The ref function is helping to modularize our scripts avoiding repeating the same code and making the code more managable and reusable for other developments. As we do not configure the result of the code, a model view is automatically created. The difference of view from table is that a view is just a virtual table that does not store data itself but represents an SQL code snippet that calls and displays a substract of data from a table or another view  while a table is a physical database object that stores data in a structured format. "
   ]
  },
  {
   "cell_type": "code",
   "execution_count": null,
   "id": "d60f20fa",
   "metadata": {},
   "outputs": [],
   "source": [
    "SELECT * FROM {{ ref('events_jan_dec') }}\n",
    "WHERE product_id = 5676290"
   ]
  },
  {
   "cell_type": "markdown",
   "id": "f6e0ee5d",
   "metadata": {},
   "source": [
    "In order to execute our models, we use the following command: "
   ]
  },
  {
   "cell_type": "code",
   "execution_count": null,
   "id": "9f834e9f",
   "metadata": {},
   "outputs": [],
   "source": [
    "dbt run"
   ]
  },
  {
   "cell_type": "markdown",
   "id": "ea5b4a50",
   "metadata": {},
   "source": [
    "The models are executed based on their dependencies. The feedback on the terminal should look like this in case of successful completion."
   ]
  },
  {
   "cell_type": "markdown",
   "id": "68968b4c",
   "metadata": {},
   "source": [
    "![image.png](Images/Picture7.png) "
   ]
  },
  {
   "cell_type": "markdown",
   "id": "3b1788d4",
   "metadata": {},
   "source": [
    "Moreover, a model table and a model view must have been created in the BigQuery dataset based on our 2 models."
   ]
  },
  {
   "cell_type": "markdown",
   "id": "c31c8684",
   "metadata": {},
   "source": [
    "![image.png](Images/Picture8.png) "
   ]
  },
  {
   "cell_type": "markdown",
   "id": "d34202e0",
   "metadata": {},
   "source": [
    "The modularity of our work can been observed also by opening the \"LINAGE VIEW\" inside our terminal. There we can see that the model \"events_jan_dec\" works as a parent model and is running first over the \"event_jan_dec_5676290\" as we use the ref function inside the second one to call the first one."
   ]
  },
  {
   "cell_type": "markdown",
   "id": "62b3640e",
   "metadata": {},
   "source": [
    "![image.png](Images/Picture11.png) "
   ]
  },
  {
   "cell_type": "markdown",
   "id": "832dc4c6",
   "metadata": {},
   "source": [
    "dbt is allowing as to alter the schema of the produced tables. To do so, we create a schema.yml file inside our models directory and we write out the following:"
   ]
  },
  {
   "cell_type": "code",
   "execution_count": null,
   "id": "bb4cc4cf",
   "metadata": {},
   "outputs": [],
   "source": [
    "version: 2\n",
    "\n",
    "models:\n",
    "  - name: events_jan_dec\n",
    "    description: \"A model that exctracts the event for December and January\"\n",
    "    columns:\n",
    "      - name: product_id\n",
    "        description: \"The product's id\"\n",
    "        tests:\n",
    "          - not_null\n",
    "  \n",
    "  - name: events_jan_dec_5676290\n",
    "    description: \"A model that exctracts the event for December and January and Product ID 5676290\""
   ]
  },
  {
   "cell_type": "markdown",
   "id": "6bdfd6a4",
   "metadata": {},
   "source": [
    "By doing this, we are telling dbt that the table result of model events_jan_dec should include a non nullable column product_id. If not, then the table is not created. We will talk more about tests on one of the next paragraphs. Moreover, a description of the models is added for explainability allowing us to document the tables inside the Data Platform."
   ]
  },
  {
   "cell_type": "markdown",
   "id": "0ae5d773",
   "metadata": {},
   "source": [
    "Finally, let's push our changes on Github for version controlling. We create a new branch for development as a best practise and we push."
   ]
  },
  {
   "cell_type": "code",
   "execution_count": null,
   "id": "9ae943ec",
   "metadata": {},
   "outputs": [],
   "source": [
    "git add .\n",
    "git commit -m \"Add first two models\"\n",
    "git push origin dbt_dev"
   ]
  },
  {
   "cell_type": "markdown",
   "id": "6666d765",
   "metadata": {},
   "source": [
    "### dbt Basics - Defining Sources\n",
    "\n",
    "Sources refer to the data connectors or configurations that allow you to access and query data from various data warehouses or databases. DBT can connect to different sources to extract data, transform it, and load it into your data warehouse for analytics and reporting purposes.\n",
    "\n",
    "In order to configure a source in dbt, we use yaml files. To start, let's create an events_raw.yml inside our models directory. Inside it we write out the following configuration:"
   ]
  },
  {
   "cell_type": "code",
   "execution_count": null,
   "id": "457f0f52",
   "metadata": {},
   "outputs": [],
   "source": [
    "version: 2\n",
    "\n",
    "sources:\n",
    "  - name: ecommerce_data\n",
    "    database: e-commerce-shipping-392016  \n",
    "    tables:\n",
    "      - name: ecommerce_data_all_partitioned_clustered\n",
    "        loaded_at_field: event_time\n",
    "        freshness:\n",
    "          warn_after: {count: 12, period: hour}\n",
    "          error_after: {count: 14, period: hour }"
   ]
  },
  {
   "cell_type": "markdown",
   "id": "c4fff11a",
   "metadata": {},
   "source": [
    "The configuration is telling dbt to find the database ecommerce_data inside our Data Platform, take the table ecommerce_data_all_partiotined_clustered and create a source based on that table. This way, we are able to call the source in our scripts without saving the table somewhere other than our Data Platform.\n",
    "\n",
    "Moreover, dbt is allowing us to warn ourselves of when our source has not been refreshed over a specific period of time or even raise an error when the source is called and stop the models that are using it from running. The freshness is checked based on the load_at_field value which must be a column of our source dataset and of type timestamp.\n",
    "\n",
    "To use the source table you simply make use of the following source function inside a model:"
   ]
  },
  {
   "cell_type": "code",
   "execution_count": null,
   "id": "cefd8268",
   "metadata": {},
   "outputs": [],
   "source": [
    "WITH source AS (\n",
    "SELECT * FROM {{ source('events', 'ecommerce_data_all_partitioned_clustered') }}\n",
    ")"
   ]
  },
  {
   "cell_type": "markdown",
   "id": "4bb4bf34",
   "metadata": {},
   "source": [
    "To check for the freshness of the sources use:"
   ]
  },
  {
   "cell_type": "code",
   "execution_count": null,
   "id": "bd050944",
   "metadata": {},
   "outputs": [],
   "source": [
    "dbt source freshness"
   ]
  },
  {
   "cell_type": "markdown",
   "id": "f3cf200b",
   "metadata": {},
   "source": [
    "### dbt Basics - Running Tests"
   ]
  },
  {
   "cell_type": "markdown",
   "id": "16dac2b5",
   "metadata": {},
   "source": [
    "Tests are helping us to prepare consistent models that are ready to get in production. They allow us to make specific assertions on how we want our data to be modified and keep them consistent through out our project. For example, we have already seen the use of not_null test and how it parameterizes our table/view so that a column to not be allowed to have null values in it. \n",
    "\n",
    "Tests are separated into two categories, Generic and Singular. The Generic Tests are written in YAML and return the number of records that do not meet your assertions. These are run on specific columns in a model. Some examples are:\n",
    "\n",
    "- Unique tests to see if every value in a column is unique\n",
    "- Not_null tests to see if every value in a column is not null\n",
    "- Accepted_values tests to make sure every value in a column is equal to a value in a provided list\n",
    "- Relationships tests to ensure that every value in a column exists in a column in another model\n",
    "\n",
    "In the following example, we are testing before running that the column product_id is not having null values and that all its values are unique. Moreover, we are testing that the column event_type is including only the values purchase, cart, view and remove_from_cart."
   ]
  },
  {
   "cell_type": "code",
   "execution_count": null,
   "id": "2ce3d3e3",
   "metadata": {},
   "outputs": [],
   "source": [
    "models:\n",
    "  - name: events_jan_dec\n",
    "    description: \"A model that exctracts the event for December and January\"\n",
    "    columns:\n",
    "      - name: product_id\n",
    "        description: \"The product's id\"\n",
    "        tests:\n",
    "          - not_null\n",
    "          - unique\n",
    "      - name: event_type\n",
    "        description: \"The type of the event\"\n",
    "        tests:\n",
    "          - accepted_values:\n",
    "              values:\n",
    "                - purchase\n",
    "                - cart\n",
    "                - view\n",
    "                - remove_from_cart"
   ]
  },
  {
   "cell_type": "markdown",
   "id": "5d0d6902",
   "metadata": {},
   "source": [
    "To run the test on the model we run the command:"
   ]
  },
  {
   "cell_type": "code",
   "execution_count": null,
   "id": "38df692a",
   "metadata": {},
   "outputs": [],
   "source": [
    "dbt test --select events_jan_dec"
   ]
  },
  {
   "cell_type": "markdown",
   "id": "3067ff61",
   "metadata": {},
   "source": [
    "The results are showing as an error on the uniqueness of the product_id as not all rows have unique product_id values."
   ]
  },
  {
   "cell_type": "markdown",
   "id": "c9382ce5",
   "metadata": {},
   "source": [
    "![image.png](Images/Picture12.png)"
   ]
  },
  {
   "cell_type": "markdown",
   "id": "4e555c4b",
   "metadata": {},
   "source": [
    "On the other hand, singular tests are stored as select statements in the tests folder. For example, let's run a test where we will check if the price column has negative values. To do so, let's create the following model and call it \"negative_total_price_test\":"
   ]
  },
  {
   "cell_type": "code",
   "execution_count": null,
   "id": "ac0ac600",
   "metadata": {},
   "outputs": [],
   "source": [
    "WITH events_jan_dec AS (\n",
    "    SELECT * FROM {{ ref('events_jan_dec') }}\n",
    "    WHERE EXTRACT(MONTH FROM date) IN (1,12)\n",
    ")\n",
    "\n",
    "SELECT product_id, SUM(price) AS total_price FROM events_jan_dec\n",
    "GROUP BY 1\n",
    "HAVING total_price < 0"
   ]
  },
  {
   "cell_type": "markdown",
   "id": "1c5b10f1",
   "metadata": {},
   "source": [
    "To run the test we use again the command:"
   ]
  },
  {
   "cell_type": "code",
   "execution_count": null,
   "id": "d99ff2d7",
   "metadata": {},
   "outputs": [],
   "source": [
    "dbt test --select negative_total_price_test"
   ]
  },
  {
   "cell_type": "markdown",
   "id": "31028086",
   "metadata": {},
   "source": [
    "The test was successfully passed:"
   ]
  },
  {
   "cell_type": "markdown",
   "id": "83ccdfdf",
   "metadata": {},
   "source": [
    "![image.png](Images/Picture13.png)"
   ]
  },
  {
   "cell_type": "markdown",
   "id": "1f4ef010",
   "metadata": {},
   "source": [
    "As a last tip, tests can be performed on sources too by adding the appropriate keys at the source yaml files inside models folder. As an example:"
   ]
  },
  {
   "cell_type": "markdown",
   "id": "954f5ed6",
   "metadata": {},
   "source": [
    "### dbt Basics - Generating Documentation\n",
    "\n",
    "As we have already noticed, dbt is giving us the opportunity to use the key 'description' in order to add documentation to our models and sources. dbt is also giving as the ability to write more descriptive documentation by using doc blocks. A doc block is a markdown file that is called from the doc function and provides us with markdown documentation. For example, let's create a .md doc file inside the models folder that includes the following text."
   ]
  },
  {
   "cell_type": "code",
   "execution_count": null,
   "id": "3c447dfa",
   "metadata": {},
   "outputs": [],
   "source": [
    "{% docs event_type %}\n",
    "\t\n",
    "One of the following values: \n",
    "\n",
    "| status           | definition                                       |\n",
    "|------------------|--------------------------------------------------|\n",
    "| purchase         | Order placed                                     |\n",
    "| cart             | Order placed in cart                             |\n",
    "| view             | Product has been observed                        |\n",
    "| remove_from_cart | Product was removed from cart                    |\n",
    "\n",
    "{% enddocs %}"
   ]
  },
  {
   "cell_type": "markdown",
   "id": "86393072",
   "metadata": {},
   "source": [
    "In order to generate the documentation, we use the command:"
   ]
  },
  {
   "cell_type": "code",
   "execution_count": null,
   "id": "c87a37e5",
   "metadata": {},
   "outputs": [],
   "source": [
    "dbt docs generate"
   ]
  },
  {
   "cell_type": "markdown",
   "id": "a8624fd6",
   "metadata": {},
   "source": [
    "By doing that, dbt clous is able to collect all the descriptions inside you project and create a markdown file with the documentation inside your project. We are able to read the documentation by pressing the `view docs` link in the top left corner of the Cloud IDE.\n",
    "\n",
    "The generated documentation includes the following:\n",
    "- Lineage Graph\n",
    "- Model, source, and column descriptions\n",
    "- Generic tests added to a column\n",
    "- The underlying SQL code for each model\n",
    "- and more..."
   ]
  },
  {
   "cell_type": "markdown",
   "id": "597ae00b",
   "metadata": {},
   "source": [
    "### dbt Basics - Project's Deployment"
   ]
  },
  {
   "cell_type": "markdown",
   "id": "8b3b5ec6",
   "metadata": {},
   "source": [
    "Deployment in dbt (or running dbt in production) is the process of running dbt on a schedule in a deployment environment. The deployment environment will typically run from the default branch (i.e., main, master) and use a dedicated deployment schema (e.g., dbt_prod). The models built in deployment are then used to power dashboards, reporting, and other key business decision-making processes."
   ]
  },
  {
   "cell_type": "markdown",
   "id": "015f3496",
   "metadata": {},
   "source": [
    "In order to build a deployment environment, we open our project on dbt cloud and visit the deploy-environments tab. There, we click to create a new environment."
   ]
  },
  {
   "cell_type": "markdown",
   "id": "449dbb7e",
   "metadata": {},
   "source": [
    "![image.png](Images/Picture14.png)"
   ]
  },
  {
   "cell_type": "markdown",
   "id": "38fae0a4",
   "metadata": {},
   "source": [
    "Then, we set a name for our environmeent, we set it as production environment and we complete the needed credentials in order to connect to our data platform. In our case, authentication is not needed as we have used a service account for connecting to our platform which is also the best practice."
   ]
  },
  {
   "cell_type": "markdown",
   "id": "38095ade",
   "metadata": {},
   "source": [
    "![image.png](Images/Picture15.png)"
   ]
  },
  {
   "cell_type": "markdown",
   "id": "8698f33c",
   "metadata": {},
   "source": [
    "We then proceed on creating a job. First, visit the deploy-jobs tab."
   ]
  },
  {
   "cell_type": "markdown",
   "id": "4773c12c",
   "metadata": {},
   "source": [
    "![image.png](Images/Picture16.png)"
   ]
  },
  {
   "cell_type": "markdown",
   "id": "b79edb2e",
   "metadata": {},
   "source": [
    "There we set a name for our job, we choose the environment we created previously and we choose to generate docs automatically as well as to run source freshness before any other step in the job. We set the command to \"dbt build\" as it is a command that will perform all the runs and tests inside our project. Finally, we schedule our job to run every day at 4 am UTC.\n"
   ]
  },
  {
   "cell_type": "markdown",
   "id": "103570ab",
   "metadata": {},
   "source": [
    "![image.png](Images/Picture17.png)"
   ]
  },
  {
   "cell_type": "markdown",
   "id": "05018b8c",
   "metadata": {},
   "source": [
    "![image.png](Images/Picture18.png)"
   ]
  },
  {
   "cell_type": "markdown",
   "id": "058e9292",
   "metadata": {},
   "source": [
    "![image.png](Images/Picture19.png)"
   ]
  },
  {
   "cell_type": "markdown",
   "id": "5cbceaf8",
   "metadata": {},
   "source": [
    "### Conclusion\n",
    "\n",
    "In conclusion, this tutorial has provided a comprehensive overview of the basics of using dbt (data build tool) to transform and manage data within your organization. We began by understanding the core concepts behind dbt, including modeling, transformations, and the importance of version control. We then delved into the practical aspects of setting up and configuring dbt, creating models and tests, and deploying the transformed data to your target destination."
   ]
  }
 ],
 "metadata": {
  "kernelspec": {
   "display_name": "Python 3 (ipykernel)",
   "language": "python",
   "name": "python3"
  },
  "language_info": {
   "codemirror_mode": {
    "name": "ipython",
    "version": 3
   },
   "file_extension": ".py",
   "mimetype": "text/x-python",
   "name": "python",
   "nbconvert_exporter": "python",
   "pygments_lexer": "ipython3",
   "version": "3.9.12"
  }
 },
 "nbformat": 4,
 "nbformat_minor": 5
}
